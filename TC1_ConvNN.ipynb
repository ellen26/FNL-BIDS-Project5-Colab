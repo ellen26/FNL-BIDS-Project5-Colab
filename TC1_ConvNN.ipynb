{
  "nbformat": 4,
  "nbformat_minor": 0,
  "metadata": {
    "kernelspec": {
      "display_name": "Python 3",
      "language": "python",
      "name": "python3"
    },
    "language_info": {
      "codemirror_mode": {
        "name": "ipython",
        "version": 3
      },
      "file_extension": ".py",
      "mimetype": "text/x-python",
      "name": "python",
      "nbconvert_exporter": "python",
      "pygments_lexer": "ipython3",
      "version": "3.7.6"
    },
    "colab": {
      "name": "TC1-ConvNN.ipynb",
      "provenance": []
    }
  },
  "cells": [
    {
      "cell_type": "markdown",
      "metadata": {
        "id": "9LSzr6XgLLJ1",
        "colab_type": "text"
      },
      "source": [
        "# Cancer Type Classification using Deep-Learning\n",
        "## S.Ravichandran"
      ]
    },
    {
      "cell_type": "markdown",
      "metadata": {
        "id": "oj6jPzqJLLJ2",
        "colab_type": "text"
      },
      "source": [
        "This document will explain how to use genomic expression data for classifying different cancer/tumor sites/types. This workshop is a follow-up to the NCI-DOE Pilot1 benchmark also called TC1. You can read about the project here, https://github.com/ECP-CANDLE/Benchmarks/tree/master/Pilot1/TC1\n",
        "\n",
        "For classification, we use a Deep-Learning procedure called 1D-Convolutional Neural Network (CONV1D; https://en.wikipedia.org/wiki/Convolutional_neural_network. \n",
        "NCI Genomic Data Commons (GDC; https://gdc.cancer.gov/) is the source of RNASeq expression data. \n",
        "\n",
        "First we will start with genomic data preparation and then we will show how to use the data to build CONV1D model that can classify different cancer types. Please note that there are more than ways to extract data from GDC. What I am describing is one possible way. \n",
        "\n",
        "This is a continuation of data preparation which can be accessed from here, \n",
        "https://github.com/ravichas/ML-TC1"
      ]
    },
    {
      "cell_type": "markdown",
      "metadata": {
        "id": "_bxMimAOLLJ3",
        "colab_type": "text"
      },
      "source": [
        "# Part-2: Convolutional Neural Network"
      ]
    },
    {
      "cell_type": "markdown",
      "metadata": {
        "id": "nU5UVUN9LLJ3",
        "colab_type": "text"
      },
      "source": [
        "## Load some libraries"
      ]
    },
    {
      "cell_type": "code",
      "metadata": {
        "id": "s-9o6zBeLLJ4",
        "colab_type": "code",
        "colab": {}
      },
      "source": [
        "from __future__ import print_function\n",
        "import os, sys, gzip, glob, json, time, argparse\n",
        "import warnings\n",
        "warnings.simplefilter(action='ignore', category=FutureWarning)\n",
        "import pandas as pd\n",
        "from pandas.io.json import json_normalize\n",
        "import numpy as np\n",
        "\n",
        "from sklearn import preprocessing\n",
        "from sklearn.model_selection import train_test_split\n",
        "from sklearn.metrics import accuracy_score\n",
        "from sklearn.preprocessing import StandardScaler, MinMaxScaler, MaxAbsScaler\n",
        "from sklearn.preprocessing import LabelEncoder, OneHotEncoder\n",
        "\n",
        "from keras.utils import to_categorical\n",
        "from keras import backend as K\n",
        "from keras.layers import Input, Dense, Dropout, Activation, Conv1D, MaxPooling1D, Flatten\n",
        "from keras import optimizers\n",
        "from keras.optimizers import SGD, Adam, RMSprop\n",
        "from keras.models import Sequential, Model, model_from_json, model_from_yaml\n",
        "from keras.utils import np_utils\n",
        "from keras.callbacks import ModelCheckpoint, CSVLogger, ReduceLROnPlateau\n",
        "from keras.callbacks import EarlyStopping"
      ],
      "execution_count": null,
      "outputs": []
    },
    {
      "cell_type": "markdown",
      "metadata": {
        "id": "8F0aq-A_LLJ7",
        "colab_type": "text"
      },
      "source": [
        "## Let us read the input data and outcome class data"
      ]
    },
    {
      "cell_type": "code",
      "metadata": {
        "id": "7C119vJvLLJ8",
        "colab_type": "code",
        "colab": {}
      },
      "source": [
        "# Read features and output files\n",
        "TC1data3 = pd.read_csv(\"Data/TC1-data3stypes.tsv\", sep=\"\\t\", low_memory = False)\n",
        "outcome = pd.read_csv(\"Data/TC1-outcome-data3stypes.tsv\", sep=\"\\t\", low_memory=False, header=None)"
      ],
      "execution_count": null,
      "outputs": []
    },
    {
      "cell_type": "code",
      "metadata": {
        "id": "2KPjidmZLLKB",
        "colab_type": "code",
        "colab": {},
        "outputId": "db608661-4c7e-46f5-da70-02f68c7a256b"
      },
      "source": [
        "TC1data3"
      ],
      "execution_count": null,
      "outputs": [
        {
          "output_type": "execute_result",
          "data": {
            "text/html": [
              "<div>\n",
              "<style scoped>\n",
              "    .dataframe tbody tr th:only-of-type {\n",
              "        vertical-align: middle;\n",
              "    }\n",
              "\n",
              "    .dataframe tbody tr th {\n",
              "        vertical-align: top;\n",
              "    }\n",
              "\n",
              "    .dataframe thead th {\n",
              "        text-align: right;\n",
              "    }\n",
              "</style>\n",
              "<table border=\"1\" class=\"dataframe\">\n",
              "  <thead>\n",
              "    <tr style=\"text-align: right;\">\n",
              "      <th></th>\n",
              "      <th>0</th>\n",
              "      <th>1</th>\n",
              "      <th>2</th>\n",
              "      <th>3</th>\n",
              "      <th>4</th>\n",
              "      <th>5</th>\n",
              "      <th>6</th>\n",
              "      <th>7</th>\n",
              "      <th>8</th>\n",
              "      <th>9</th>\n",
              "      <th>...</th>\n",
              "      <th>60473</th>\n",
              "      <th>60474</th>\n",
              "      <th>60475</th>\n",
              "      <th>60476</th>\n",
              "      <th>60477</th>\n",
              "      <th>60478</th>\n",
              "      <th>60479</th>\n",
              "      <th>60480</th>\n",
              "      <th>60481</th>\n",
              "      <th>60482</th>\n",
              "    </tr>\n",
              "  </thead>\n",
              "  <tbody>\n",
              "    <tr>\n",
              "      <th>0</th>\n",
              "      <td>1.716923</td>\n",
              "      <td>0.0</td>\n",
              "      <td>1.951998</td>\n",
              "      <td>1.167483</td>\n",
              "      <td>0.667981</td>\n",
              "      <td>1.274099</td>\n",
              "      <td>1.258272</td>\n",
              "      <td>1.837351</td>\n",
              "      <td>1.000251</td>\n",
              "      <td>1.991821</td>\n",
              "      <td>...</td>\n",
              "      <td>0.0</td>\n",
              "      <td>0.0</td>\n",
              "      <td>0.0</td>\n",
              "      <td>0.0</td>\n",
              "      <td>0.0</td>\n",
              "      <td>0.0</td>\n",
              "      <td>0.0</td>\n",
              "      <td>0.0</td>\n",
              "      <td>0.0</td>\n",
              "      <td>0.0</td>\n",
              "    </tr>\n",
              "    <tr>\n",
              "      <th>1</th>\n",
              "      <td>1.979573</td>\n",
              "      <td>0.0</td>\n",
              "      <td>1.939303</td>\n",
              "      <td>0.946014</td>\n",
              "      <td>0.828050</td>\n",
              "      <td>1.338521</td>\n",
              "      <td>1.215231</td>\n",
              "      <td>2.298950</td>\n",
              "      <td>1.974058</td>\n",
              "      <td>1.744890</td>\n",
              "      <td>...</td>\n",
              "      <td>0.0</td>\n",
              "      <td>0.0</td>\n",
              "      <td>0.0</td>\n",
              "      <td>0.0</td>\n",
              "      <td>0.0</td>\n",
              "      <td>0.0</td>\n",
              "      <td>0.0</td>\n",
              "      <td>0.0</td>\n",
              "      <td>0.0</td>\n",
              "      <td>0.0</td>\n",
              "    </tr>\n",
              "    <tr>\n",
              "      <th>2</th>\n",
              "      <td>1.681222</td>\n",
              "      <td>0.0</td>\n",
              "      <td>2.016686</td>\n",
              "      <td>0.789298</td>\n",
              "      <td>0.930981</td>\n",
              "      <td>1.167504</td>\n",
              "      <td>1.026718</td>\n",
              "      <td>2.058239</td>\n",
              "      <td>1.776646</td>\n",
              "      <td>1.510484</td>\n",
              "      <td>...</td>\n",
              "      <td>0.0</td>\n",
              "      <td>0.0</td>\n",
              "      <td>0.0</td>\n",
              "      <td>0.0</td>\n",
              "      <td>0.0</td>\n",
              "      <td>0.0</td>\n",
              "      <td>0.0</td>\n",
              "      <td>0.0</td>\n",
              "      <td>0.0</td>\n",
              "      <td>0.0</td>\n",
              "    </tr>\n",
              "    <tr>\n",
              "      <th>3</th>\n",
              "      <td>1.640044</td>\n",
              "      <td>0.0</td>\n",
              "      <td>1.669994</td>\n",
              "      <td>0.821958</td>\n",
              "      <td>0.426876</td>\n",
              "      <td>1.214174</td>\n",
              "      <td>1.673027</td>\n",
              "      <td>1.904529</td>\n",
              "      <td>0.867674</td>\n",
              "      <td>1.526440</td>\n",
              "      <td>...</td>\n",
              "      <td>0.0</td>\n",
              "      <td>0.0</td>\n",
              "      <td>0.0</td>\n",
              "      <td>0.0</td>\n",
              "      <td>0.0</td>\n",
              "      <td>0.0</td>\n",
              "      <td>0.0</td>\n",
              "      <td>0.0</td>\n",
              "      <td>0.0</td>\n",
              "      <td>0.0</td>\n",
              "    </tr>\n",
              "    <tr>\n",
              "      <th>4</th>\n",
              "      <td>1.800725</td>\n",
              "      <td>0.0</td>\n",
              "      <td>2.013062</td>\n",
              "      <td>0.743211</td>\n",
              "      <td>0.652487</td>\n",
              "      <td>0.935054</td>\n",
              "      <td>1.102839</td>\n",
              "      <td>2.068075</td>\n",
              "      <td>1.405575</td>\n",
              "      <td>1.674716</td>\n",
              "      <td>...</td>\n",
              "      <td>0.0</td>\n",
              "      <td>0.0</td>\n",
              "      <td>0.0</td>\n",
              "      <td>0.0</td>\n",
              "      <td>0.0</td>\n",
              "      <td>0.0</td>\n",
              "      <td>0.0</td>\n",
              "      <td>0.0</td>\n",
              "      <td>0.0</td>\n",
              "      <td>0.0</td>\n",
              "    </tr>\n",
              "    <tr>\n",
              "      <th>...</th>\n",
              "      <td>...</td>\n",
              "      <td>...</td>\n",
              "      <td>...</td>\n",
              "      <td>...</td>\n",
              "      <td>...</td>\n",
              "      <td>...</td>\n",
              "      <td>...</td>\n",
              "      <td>...</td>\n",
              "      <td>...</td>\n",
              "      <td>...</td>\n",
              "      <td>...</td>\n",
              "      <td>...</td>\n",
              "      <td>...</td>\n",
              "      <td>...</td>\n",
              "      <td>...</td>\n",
              "      <td>...</td>\n",
              "      <td>...</td>\n",
              "      <td>...</td>\n",
              "      <td>...</td>\n",
              "      <td>...</td>\n",
              "      <td>...</td>\n",
              "    </tr>\n",
              "    <tr>\n",
              "      <th>145</th>\n",
              "      <td>1.736219</td>\n",
              "      <td>0.0</td>\n",
              "      <td>1.694382</td>\n",
              "      <td>0.853827</td>\n",
              "      <td>0.363703</td>\n",
              "      <td>0.930779</td>\n",
              "      <td>0.472668</td>\n",
              "      <td>1.685626</td>\n",
              "      <td>1.759392</td>\n",
              "      <td>1.537578</td>\n",
              "      <td>...</td>\n",
              "      <td>0.0</td>\n",
              "      <td>0.0</td>\n",
              "      <td>0.0</td>\n",
              "      <td>0.0</td>\n",
              "      <td>0.0</td>\n",
              "      <td>0.0</td>\n",
              "      <td>0.0</td>\n",
              "      <td>0.0</td>\n",
              "      <td>0.0</td>\n",
              "      <td>0.0</td>\n",
              "    </tr>\n",
              "    <tr>\n",
              "      <th>146</th>\n",
              "      <td>1.815351</td>\n",
              "      <td>0.0</td>\n",
              "      <td>1.894150</td>\n",
              "      <td>0.951725</td>\n",
              "      <td>0.989217</td>\n",
              "      <td>0.458430</td>\n",
              "      <td>0.496163</td>\n",
              "      <td>1.547696</td>\n",
              "      <td>1.621261</td>\n",
              "      <td>1.591136</td>\n",
              "      <td>...</td>\n",
              "      <td>0.0</td>\n",
              "      <td>0.0</td>\n",
              "      <td>0.0</td>\n",
              "      <td>0.0</td>\n",
              "      <td>0.0</td>\n",
              "      <td>0.0</td>\n",
              "      <td>0.0</td>\n",
              "      <td>0.0</td>\n",
              "      <td>0.0</td>\n",
              "      <td>0.0</td>\n",
              "    </tr>\n",
              "    <tr>\n",
              "      <th>147</th>\n",
              "      <td>1.815406</td>\n",
              "      <td>0.0</td>\n",
              "      <td>1.780776</td>\n",
              "      <td>0.920419</td>\n",
              "      <td>0.460045</td>\n",
              "      <td>0.811382</td>\n",
              "      <td>0.233990</td>\n",
              "      <td>0.841240</td>\n",
              "      <td>1.686607</td>\n",
              "      <td>1.445073</td>\n",
              "      <td>...</td>\n",
              "      <td>0.0</td>\n",
              "      <td>0.0</td>\n",
              "      <td>0.0</td>\n",
              "      <td>0.0</td>\n",
              "      <td>0.0</td>\n",
              "      <td>0.0</td>\n",
              "      <td>0.0</td>\n",
              "      <td>0.0</td>\n",
              "      <td>0.0</td>\n",
              "      <td>0.0</td>\n",
              "    </tr>\n",
              "    <tr>\n",
              "      <th>148</th>\n",
              "      <td>1.499736</td>\n",
              "      <td>0.0</td>\n",
              "      <td>1.860209</td>\n",
              "      <td>0.697977</td>\n",
              "      <td>0.188001</td>\n",
              "      <td>0.475000</td>\n",
              "      <td>0.781762</td>\n",
              "      <td>0.670091</td>\n",
              "      <td>1.093913</td>\n",
              "      <td>1.457497</td>\n",
              "      <td>...</td>\n",
              "      <td>0.0</td>\n",
              "      <td>0.0</td>\n",
              "      <td>0.0</td>\n",
              "      <td>0.0</td>\n",
              "      <td>0.0</td>\n",
              "      <td>0.0</td>\n",
              "      <td>0.0</td>\n",
              "      <td>0.0</td>\n",
              "      <td>0.0</td>\n",
              "      <td>0.0</td>\n",
              "    </tr>\n",
              "    <tr>\n",
              "      <th>149</th>\n",
              "      <td>1.744374</td>\n",
              "      <td>0.0</td>\n",
              "      <td>1.742631</td>\n",
              "      <td>0.751118</td>\n",
              "      <td>0.378422</td>\n",
              "      <td>0.540981</td>\n",
              "      <td>0.000000</td>\n",
              "      <td>1.525811</td>\n",
              "      <td>1.547814</td>\n",
              "      <td>1.177717</td>\n",
              "      <td>...</td>\n",
              "      <td>0.0</td>\n",
              "      <td>0.0</td>\n",
              "      <td>0.0</td>\n",
              "      <td>0.0</td>\n",
              "      <td>0.0</td>\n",
              "      <td>0.0</td>\n",
              "      <td>0.0</td>\n",
              "      <td>0.0</td>\n",
              "      <td>0.0</td>\n",
              "      <td>0.0</td>\n",
              "    </tr>\n",
              "  </tbody>\n",
              "</table>\n",
              "<p>150 rows × 60483 columns</p>\n",
              "</div>"
            ],
            "text/plain": [
              "            0    1         2         3         4         5         6  \\\n",
              "0    1.716923  0.0  1.951998  1.167483  0.667981  1.274099  1.258272   \n",
              "1    1.979573  0.0  1.939303  0.946014  0.828050  1.338521  1.215231   \n",
              "2    1.681222  0.0  2.016686  0.789298  0.930981  1.167504  1.026718   \n",
              "3    1.640044  0.0  1.669994  0.821958  0.426876  1.214174  1.673027   \n",
              "4    1.800725  0.0  2.013062  0.743211  0.652487  0.935054  1.102839   \n",
              "..        ...  ...       ...       ...       ...       ...       ...   \n",
              "145  1.736219  0.0  1.694382  0.853827  0.363703  0.930779  0.472668   \n",
              "146  1.815351  0.0  1.894150  0.951725  0.989217  0.458430  0.496163   \n",
              "147  1.815406  0.0  1.780776  0.920419  0.460045  0.811382  0.233990   \n",
              "148  1.499736  0.0  1.860209  0.697977  0.188001  0.475000  0.781762   \n",
              "149  1.744374  0.0  1.742631  0.751118  0.378422  0.540981  0.000000   \n",
              "\n",
              "            7         8         9  ...  60473  60474  60475  60476  60477  \\\n",
              "0    1.837351  1.000251  1.991821  ...    0.0    0.0    0.0    0.0    0.0   \n",
              "1    2.298950  1.974058  1.744890  ...    0.0    0.0    0.0    0.0    0.0   \n",
              "2    2.058239  1.776646  1.510484  ...    0.0    0.0    0.0    0.0    0.0   \n",
              "3    1.904529  0.867674  1.526440  ...    0.0    0.0    0.0    0.0    0.0   \n",
              "4    2.068075  1.405575  1.674716  ...    0.0    0.0    0.0    0.0    0.0   \n",
              "..        ...       ...       ...  ...    ...    ...    ...    ...    ...   \n",
              "145  1.685626  1.759392  1.537578  ...    0.0    0.0    0.0    0.0    0.0   \n",
              "146  1.547696  1.621261  1.591136  ...    0.0    0.0    0.0    0.0    0.0   \n",
              "147  0.841240  1.686607  1.445073  ...    0.0    0.0    0.0    0.0    0.0   \n",
              "148  0.670091  1.093913  1.457497  ...    0.0    0.0    0.0    0.0    0.0   \n",
              "149  1.525811  1.547814  1.177717  ...    0.0    0.0    0.0    0.0    0.0   \n",
              "\n",
              "     60478  60479  60480  60481  60482  \n",
              "0      0.0    0.0    0.0    0.0    0.0  \n",
              "1      0.0    0.0    0.0    0.0    0.0  \n",
              "2      0.0    0.0    0.0    0.0    0.0  \n",
              "3      0.0    0.0    0.0    0.0    0.0  \n",
              "4      0.0    0.0    0.0    0.0    0.0  \n",
              "..     ...    ...    ...    ...    ...  \n",
              "145    0.0    0.0    0.0    0.0    0.0  \n",
              "146    0.0    0.0    0.0    0.0    0.0  \n",
              "147    0.0    0.0    0.0    0.0    0.0  \n",
              "148    0.0    0.0    0.0    0.0    0.0  \n",
              "149    0.0    0.0    0.0    0.0    0.0  \n",
              "\n",
              "[150 rows x 60483 columns]"
            ]
          },
          "metadata": {
            "tags": []
          },
          "execution_count": 20
        }
      ]
    },
    {
      "cell_type": "code",
      "metadata": {
        "id": "ZUzBWFC1LLKE",
        "colab_type": "code",
        "colab": {}
      },
      "source": [
        "# outcome[0].value_counts()\n",
        "outcome = outcome[0].values"
      ],
      "execution_count": null,
      "outputs": []
    },
    {
      "cell_type": "code",
      "metadata": {
        "id": "ZAtaag9hLLKI",
        "colab_type": "code",
        "colab": {}
      },
      "source": [
        "def encode(data):\n",
        "    print('Shape of data (BEFORE encode): %s' % str(data.shape))\n",
        "    encoded = to_categorical(data)\n",
        "    print('Shape of data (AFTER  encode): %s\\n' % str(encoded.shape))\n",
        "    return encoded"
      ],
      "execution_count": null,
      "outputs": []
    },
    {
      "cell_type": "code",
      "metadata": {
        "id": "wfEyj3dELLKL",
        "colab_type": "code",
        "colab": {},
        "outputId": "41beac41-c476-42ab-e3f6-1800e892e67c"
      },
      "source": [
        "outcome = encode(outcome)"
      ],
      "execution_count": null,
      "outputs": [
        {
          "output_type": "stream",
          "text": [
            "Shape of data (BEFORE encode): (150,)\n",
            "Shape of data (AFTER  encode): (150, 3)\n",
            "\n"
          ],
          "name": "stdout"
        }
      ]
    },
    {
      "cell_type": "code",
      "metadata": {
        "id": "OcCv5Lv_LLKO",
        "colab_type": "code",
        "colab": {},
        "outputId": "731b6429-adf2-47f4-ac1e-8227dfc65c1c"
      },
      "source": [
        "from IPython.core.display import Image\n",
        "Image(filename='Img/Train-Test.png',width = 600, height = 800 )"
      ],
      "execution_count": null,
      "outputs": [
        {
          "output_type": "execute_result",
          "data": {
            "image/png": "[encoded data removed]",
            "text/plain": [
              "<IPython.core.display.Image object>"
            ]
          },
          "metadata": {
            "tags": [],
            "image/png": {
              "height": 800,
              "width": 600
            }
          },
          "execution_count": 24
        }
      ]
    },
    {
      "cell_type": "markdown",
      "metadata": {
        "id": "YGF6XLY7LLKR",
        "colab_type": "text"
      },
      "source": [
        "You can use the Test data for validatation. "
      ]
    },
    {
      "cell_type": "markdown",
      "metadata": {
        "id": "fV2-oqdnLLKR",
        "colab_type": "text"
      },
      "source": [
        "## Split the data into training and test set"
      ]
    },
    {
      "cell_type": "code",
      "metadata": {
        "id": "gzTVLJrTLLKS",
        "colab_type": "code",
        "colab": {}
      },
      "source": [
        "# train/test split\n",
        "X_train, X_test, Y_train, Y_test = train_test_split(TC1data3, outcome,\n",
        "                                                    train_size=0.75,\n",
        "                                                    test_size=0.25,\n",
        "                                                    random_state=123,\n",
        "                                                    stratify = outcome)"
      ],
      "execution_count": null,
      "outputs": []
    },
    {
      "cell_type": "markdown",
      "metadata": {
        "id": "8H2GGXw-LLKV",
        "colab_type": "text"
      },
      "source": [
        "## Let us define some parameters\n",
        "\n",
        "* activation to be RELU\n",
        "* batch_size is set to 20 \n",
        "* number of classes is three (chosen a small number for performace) for this exercise. The code that is available from NIH FTP site will model 15 cancer site outputs."
      ]
    },
    {
      "cell_type": "code",
      "metadata": {
        "id": "c2q9PAJzLLKV",
        "colab_type": "code",
        "colab": {}
      },
      "source": [
        "# parameters\n",
        "activation='relu'\n",
        "batch_size=20\n",
        "# Number of sites\n",
        "classes=3\n",
        "\n",
        "drop = 0.1\n",
        "feature_subsample = 0\n",
        "loss='categorical_crossentropy'\n",
        "\n",
        "# metrics='accuracy'\n",
        "out_act='softmax'\n",
        "\n",
        "shuffle = False"
      ],
      "execution_count": null,
      "outputs": []
    },
    {
      "cell_type": "markdown",
      "metadata": {
        "id": "M53pSwaJLLKZ",
        "colab_type": "text"
      },
      "source": [
        "### Note epochs should be greather than 10. For hands-on, I have chosen a smaller number"
      ]
    },
    {
      "cell_type": "code",
      "metadata": {
        "id": "djxvkPYQLLKZ",
        "colab_type": "code",
        "colab": {}
      },
      "source": [
        "epochs=10\n",
        "\n",
        "optimizer = optimizers.SGD(lr=0.1)\n",
        "metrics = ['acc']"
      ],
      "execution_count": null,
      "outputs": []
    },
    {
      "cell_type": "code",
      "metadata": {
        "id": "XlC8uKIrLLKc",
        "colab_type": "code",
        "colab": {}
      },
      "source": [
        "x_train_len = X_train.shape[1]\n",
        "\n",
        "X_train = np.expand_dims(X_train, axis=2)\n",
        "X_test = np.expand_dims(X_test, axis=2)"
      ],
      "execution_count": null,
      "outputs": []
    },
    {
      "cell_type": "code",
      "metadata": {
        "id": "d0KA-dClLLKe",
        "colab_type": "code",
        "colab": {}
      },
      "source": [
        "filters = 128\n",
        "filter_len = 20\n",
        "stride = 1\n",
        "\n",
        "K.clear_session()"
      ],
      "execution_count": null,
      "outputs": []
    },
    {
      "cell_type": "markdown",
      "metadata": {
        "id": "i56r7rjqLLKh",
        "colab_type": "text"
      },
      "source": [
        "## Create and initialize the model"
      ]
    },
    {
      "cell_type": "code",
      "metadata": {
        "id": "ajqeW_x1LLKh",
        "colab_type": "code",
        "colab": {}
      },
      "source": [
        "model = Sequential()\n",
        "\n",
        "# model.add  1. CONV1D\n",
        "model.add(Conv1D(filters = filters,\n",
        "                 kernel_size = filter_len,\n",
        "                 strides = stride,\n",
        "                 padding='valid',\n",
        "                 input_shape=(x_train_len, 1)))"
      ],
      "execution_count": null,
      "outputs": []
    },
    {
      "cell_type": "markdown",
      "metadata": {
        "id": "PolE3ABcLLKl",
        "colab_type": "text"
      },
      "source": [
        "## Create the topology of the architecture"
      ]
    },
    {
      "cell_type": "markdown",
      "metadata": {
        "id": "-tz43rFVLLKm",
        "colab_type": "text"
      },
      "source": [
        "### Please note that the `filters = 128` gave the best results. For the purpose of demonstration via cloud, I have reduced the filters to 10. "
      ]
    },
    {
      "cell_type": "code",
      "metadata": {
        "id": "n_z_UhAKLLKm",
        "colab_type": "code",
        "colab": {}
      },
      "source": [
        "# 2. Activation\n",
        "model.add(Activation('relu'))\n",
        "\n",
        "# 3. MaxPooling\n",
        "model.add(MaxPooling1D(pool_size = 1))\n",
        "\n",
        "# The filters = 128 gave the best results. to optimize \n",
        "# filters = 128\n",
        "filters = 10\n",
        "filter_len = 10\n",
        "stride = 1\n",
        "\n",
        "# 4. Conv1D\n",
        "model.add(Conv1D(filters=filters,\n",
        "                 kernel_size=filter_len,\n",
        "                 strides=stride,\n",
        "                 padding='valid'))\n",
        "\n",
        "# 5. Activation\n",
        "model.add(Activation('relu'))\n",
        "\n",
        "# 6. MaxPooling\n",
        "model.add(MaxPooling1D(pool_size = 10))\n",
        "\n",
        "# 7. Flatten\n",
        "model.add(Flatten())\n",
        "\n",
        "# 8. Dense\n",
        "model.add(Dense(200))\n",
        "\n",
        "# 9. activation\n",
        "model.add(Activation('relu'))\n",
        "\n",
        "# 10. dropout\n",
        "model.add(Dropout(0.1))\n",
        "\n",
        "#11. Dense\n",
        "model.add(Dense(20))\n",
        "\n",
        "#12. Activation\n",
        "model.add(Activation('relu'))\n",
        "\n",
        "#13. dropout\n",
        "model.add(Dropout(0.1))\n",
        "\n",
        "# 14. dense\n",
        "model.add(Dense(3))\n",
        "\n",
        "# 15. Activation\n",
        "model.add(Activation(out_act))"
      ],
      "execution_count": null,
      "outputs": []
    },
    {
      "cell_type": "markdown",
      "metadata": {
        "id": "1fQqBv2xLLKo",
        "colab_type": "text"
      },
      "source": [
        "## Compile and show the model summary"
      ]
    },
    {
      "cell_type": "code",
      "metadata": {
        "id": "WQ4ysSRtLLKp",
        "colab_type": "code",
        "colab": {},
        "outputId": "d2b20f95-c35e-4e0b-afa3-0f1a946d6937"
      },
      "source": [
        "model.compile( loss= loss,\n",
        "              optimizer = optimizer,\n",
        "              metrics = metrics )\n",
        "\n",
        "es = EarlyStopping(monitor='val_loss', mode='min', verbose=1, patience=10)\n",
        "model.summary()"
      ],
      "execution_count": null,
      "outputs": [
        {
          "output_type": "stream",
          "text": [
            "Model: \"sequential_1\"\n",
            "_________________________________________________________________\n",
            "Layer (type)                 Output Shape              Param #   \n",
            "=================================================================\n",
            "conv1d_1 (Conv1D)            (None, 60464, 128)        2688      \n",
            "_________________________________________________________________\n",
            "activation_1 (Activation)    (None, 60464, 128)        0         \n",
            "_________________________________________________________________\n",
            "max_pooling1d_1 (MaxPooling1 (None, 60464, 128)        0         \n",
            "_________________________________________________________________\n",
            "conv1d_2 (Conv1D)            (None, 60455, 128)        163968    \n",
            "_________________________________________________________________\n",
            "activation_2 (Activation)    (None, 60455, 128)        0         \n",
            "_________________________________________________________________\n",
            "max_pooling1d_2 (MaxPooling1 (None, 6045, 128)         0         \n",
            "_________________________________________________________________\n",
            "flatten_1 (Flatten)          (None, 773760)            0         \n",
            "_________________________________________________________________\n",
            "dense_1 (Dense)              (None, 200)               154752200 \n",
            "_________________________________________________________________\n",
            "activation_3 (Activation)    (None, 200)               0         \n",
            "_________________________________________________________________\n",
            "dropout_1 (Dropout)          (None, 200)               0         \n",
            "_________________________________________________________________\n",
            "dense_2 (Dense)              (None, 20)                4020      \n",
            "_________________________________________________________________\n",
            "activation_4 (Activation)    (None, 20)                0         \n",
            "_________________________________________________________________\n",
            "dropout_2 (Dropout)          (None, 20)                0         \n",
            "_________________________________________________________________\n",
            "dense_3 (Dense)              (None, 3)                 63        \n",
            "_________________________________________________________________\n",
            "activation_5 (Activation)    (None, 3)                 0         \n",
            "=================================================================\n",
            "Total params: 154,922,939\n",
            "Trainable params: 154,922,939\n",
            "Non-trainable params: 0\n",
            "_________________________________________________________________\n"
          ],
          "name": "stdout"
        }
      ]
    },
    {
      "cell_type": "code",
      "metadata": {
        "id": "oWw9Y_ahLLKr",
        "colab_type": "code",
        "colab": {}
      },
      "source": [
        "# save\n",
        "save = '.'\n",
        "output_dir = \"Model\"\n",
        "\n",
        "if not os.path.exists(output_dir):\n",
        "        os.makedirs(output_dir)\n",
        "\n",
        "model_name = 'tc1'\n",
        "path = '{}/{}.autosave.model.h5'.format(output_dir, model_name)\n",
        "checkpointer = ModelCheckpoint(filepath=path,\n",
        "                               verbose=1,\n",
        "                               save_weights_only=True,\n",
        "                               save_best_only=True)\n",
        "\n",
        "csv_logger = CSVLogger('{}/training.log'.format(output_dir))"
      ],
      "execution_count": null,
      "outputs": []
    },
    {
      "cell_type": "code",
      "metadata": {
        "id": "DHXrwltRLLKu",
        "colab_type": "code",
        "colab": {}
      },
      "source": [
        "# SR: change epsilon to min_delta\n",
        "reduce_lr = ReduceLROnPlateau(monitor='val_loss',\n",
        "                              factor=0.1,\n",
        "                              patience=10,\n",
        "                              verbose=1, mode='auto',\n",
        "                              min_delta=0.0001,\n",
        "                              cooldown=0,\n",
        "                              min_lr=0)"
      ],
      "execution_count": null,
      "outputs": []
    },
    {
      "cell_type": "code",
      "metadata": {
        "id": "kS1YNkTpLLKx",
        "colab_type": "code",
        "colab": {},
        "outputId": "92e8013f-a7b9-441c-f1db-0276f74d13f3"
      },
      "source": [
        "# batch_size = 20\n",
        "history = model.fit(X_train, Y_train, batch_size=batch_size,\n",
        "                    epochs=epochs, verbose=1, validation_data=(X_test, Y_test),\n",
        "                    callbacks = [checkpointer, csv_logger, reduce_lr])"
      ],
      "execution_count": null,
      "outputs": [
        {
          "output_type": "stream",
          "text": [
            "Train on 112 samples, validate on 38 samples\n",
            "Epoch 1/10\n",
            "112/112 [==============================] - 110s 980ms/step - loss: 1.4386 - acc: 0.2946 - val_loss: 1.0986 - val_acc: 0.3421\n",
            "\n",
            "Epoch 00001: val_loss improved from inf to 1.09863, saving model to Model/tc1.autosave.model.h5\n",
            "Epoch 2/10\n",
            "112/112 [==============================] - 106s 950ms/step - loss: 1.1009 - acc: 0.2500 - val_loss: 1.0962 - val_acc: 0.3421\n",
            "\n",
            "Epoch 00002: val_loss improved from 1.09863 to 1.09618, saving model to Model/tc1.autosave.model.h5\n",
            "Epoch 3/10\n",
            "112/112 [==============================] - 106s 945ms/step - loss: 1.0959 - acc: 0.3214 - val_loss: 1.0949 - val_acc: 0.3421\n",
            "\n",
            "Epoch 00003: val_loss improved from 1.09618 to 1.09492, saving model to Model/tc1.autosave.model.h5\n",
            "Epoch 4/10\n",
            "112/112 [==============================] - 114s 1s/step - loss: 1.0883 - acc: 0.4732 - val_loss: 1.0742 - val_acc: 0.3158\n",
            "\n",
            "Epoch 00004: val_loss improved from 1.09492 to 1.07417, saving model to Model/tc1.autosave.model.h5\n",
            "Epoch 5/10\n",
            "112/112 [==============================] - 125s 1s/step - loss: 1.0637 - acc: 0.4911 - val_loss: 1.0613 - val_acc: 0.3421\n",
            "\n",
            "Epoch 00005: val_loss improved from 1.07417 to 1.06126, saving model to Model/tc1.autosave.model.h5\n",
            "Epoch 6/10\n",
            "112/112 [==============================] - 122s 1s/step - loss: 1.0445 - acc: 0.4732 - val_loss: 1.0188 - val_acc: 0.3684\n",
            "\n",
            "Epoch 00006: val_loss improved from 1.06126 to 1.01877, saving model to Model/tc1.autosave.model.h5\n",
            "Epoch 7/10\n",
            "112/112 [==============================] - 125s 1s/step - loss: 1.0591 - acc: 0.4732 - val_loss: 0.8974 - val_acc: 0.6579\n",
            "\n",
            "Epoch 00007: val_loss improved from 1.01877 to 0.89738, saving model to Model/tc1.autosave.model.h5\n",
            "Epoch 8/10\n",
            "112/112 [==============================] - 116s 1s/step - loss: 0.8696 - acc: 0.5536 - val_loss: 2.3226 - val_acc: 0.3421\n",
            "\n",
            "Epoch 00008: val_loss did not improve from 0.89738\n",
            "Epoch 9/10\n",
            "112/112 [==============================] - 110s 984ms/step - loss: 1.2682 - acc: 0.3571 - val_loss: 1.0910 - val_acc: 0.3421\n",
            "\n",
            "Epoch 00009: val_loss did not improve from 0.89738\n",
            "Epoch 10/10\n",
            "112/112 [==============================] - 114s 1s/step - loss: 1.0892 - acc: 0.3571 - val_loss: 1.0597 - val_acc: 0.5789\n",
            "\n",
            "Epoch 00010: val_loss did not improve from 0.89738\n"
          ],
          "name": "stdout"
        }
      ]
    },
    {
      "cell_type": "code",
      "metadata": {
        "id": "q6XERAtoLLKz",
        "colab_type": "code",
        "colab": {}
      },
      "source": [
        "score = model.evaluate(X_test, Y_test, verbose=0)\n",
        "\n",
        "print('Test score:', score[0])\n",
        "print('Test accuracy:', score[1])"
      ],
      "execution_count": null,
      "outputs": []
    },
    {
      "cell_type": "markdown",
      "metadata": {
        "id": "9Eb2ON0YLLK2",
        "colab_type": "text"
      },
      "source": [
        "## Word of caution about the accuracy from this test run\n",
        "\n",
        "The output loss and accuracy shown above do not reflect the real learning. For good accuracy, we need to use the whole dataset. Here are the few epochs from the original dataset"
      ]
    },
    {
      "cell_type": "code",
      "metadata": {
        "id": "1Ad_mf-7LLK2",
        "colab_type": "code",
        "colab": {},
        "outputId": "2fbc61e5-2431-4eb1-b165-f8248cb97613"
      },
      "source": [
        "from IPython.core.display import Image\n",
        "Image(filename='Img/TC1-Acc.PNG',width = 1000, height = 1000 )"
      ],
      "execution_count": null,
      "outputs": [
        {
          "output_type": "execute_result",
          "data": {
            "image/png": "[encoded data removed]",
            "text/plain": [
              "<IPython.core.display.Image object>"
            ]
          },
          "metadata": {
            "tags": [],
            "image/png": {
              "height": 1000,
              "width": 1000
            }
          },
          "execution_count": 36
        }
      ]
    },
    {
      "cell_type": "code",
      "metadata": {
        "id": "3VuYqCnkLLK5",
        "colab_type": "code",
        "colab": {}
      },
      "source": [
        "import numpy as np\n",
        "import matplotlib.pyplot as plt\n",
        "import pandas as pd\n",
        "\n",
        "tc1results = pd.read_csv(\"Output/tc1results.txt\", index_col='epoch')"
      ],
      "execution_count": null,
      "outputs": []
    },
    {
      "cell_type": "code",
      "metadata": {
        "id": "ABT1_YvFLLK6",
        "colab_type": "code",
        "colab": {},
        "outputId": "6a7d5e12-f9da-4479-e341-46b702882811"
      },
      "source": [
        "tc1results.plot()"
      ],
      "execution_count": null,
      "outputs": [
        {
          "output_type": "execute_result",
          "data": {
            "text/plain": [
              "<matplotlib.axes._subplots.AxesSubplot at 0x1e504577b88>"
            ]
          },
          "metadata": {
            "tags": []
          },
          "execution_count": 38
        },
        {
          "output_type": "display_data",
          "data": {
            "image/png": "[encoded data removed]",
            "text/plain": [
              "<Figure size 432x288 with 1 Axes>"
            ]
          },
          "metadata": {
            "tags": [],
            "needs_background": "light"
          }
        }
      ]
    },
    {
      "cell_type": "markdown",
      "metadata": {
        "id": "azmPmtstLLK8",
        "colab_type": "text"
      },
      "source": [
        "## How to save the model/weights?"
      ]
    },
    {
      "cell_type": "code",
      "metadata": {
        "id": "Aw_0GR-eLLK8",
        "colab_type": "code",
        "colab": {},
        "outputId": "78a94e56-4ba4-4bb1-f94f-2d33d315d488"
      },
      "source": [
        "# JSON JSON\n",
        "# serialize model to json\n",
        "json_model = model.to_json()\n",
        "\n",
        "# save the model architecture to JSON file\n",
        "with open('Model/tc1.model.json', 'w') as json_file:\n",
        "    json_file.write(json_model)\n",
        "\n",
        "\n",
        "# YAML YAML\n",
        "# serialize model to YAML\n",
        "model_yaml = model.to_yaml()\n",
        "\n",
        "# save the model architecture to YAML file\n",
        "with open(\"{}/{}.model.yaml\".format(output_dir, model_name), \"w\") as yaml_file:\n",
        "    yaml_file.write(model_yaml)\n",
        "\n",
        "\n",
        "# WEIGHTS HDF5\n",
        "# serialize weights to HDF5\n",
        "model.save_weights(\"{}/{}.model.h5\".format(output_dir, model_name))\n",
        "print(\"Saved model to disk\")"
      ],
      "execution_count": null,
      "outputs": [
        {
          "output_type": "stream",
          "text": [
            "Saved model to disk\n"
          ],
          "name": "stdout"
        }
      ]
    },
    {
      "cell_type": "code",
      "metadata": {
        "id": "qr9Kd73lLLLB",
        "colab_type": "code",
        "colab": {}
      },
      "source": [
        "# load weights into new model\n",
        "loaded_model_yaml.load_weights('{}/{}.model.h5'.format(output_dir, model_name))\n",
        "print(\"Loaded yaml model from disk\")"
      ],
      "execution_count": null,
      "outputs": []
    },
    {
      "cell_type": "markdown",
      "metadata": {
        "id": "yDYKFtpDLLLD",
        "colab_type": "text"
      },
      "source": [
        "## Inference\n",
        "\n",
        "The calculation was carried out on a NIH Biowulf GPU node. Model weights were saved in Python HDF5 grid format. HDF5 is ideal for storing multi-dimensional arrays of numbers. You can read about HDF5 here.\n",
        "http://www.h5py.org/"
      ]
    },
    {
      "cell_type": "code",
      "metadata": {
        "id": "oLwYZsJrLLLD",
        "colab_type": "code",
        "colab": {},
        "outputId": "65766bf0-71a3-4f33-abdb-80da252a5e86"
      },
      "source": [
        "from keras.models import model_from_json\n",
        "\n",
        "# Open the handle\n",
        "json_file = open('Model/tc1.model.json', 'r')\n",
        "\n",
        "# load json and create model\n",
        "loaded_model_json = json_file.read()\n",
        "json_file.close()\n",
        "\n",
        "loaded_model = model_from_json(loaded_model_json)\n",
        "\n",
        "# load weights into new model\n",
        "loaded_model.load_weights('Model/tc1.model.h5')\n",
        "print(\"Loaded model from disk\")\n",
        "# loaded_model_json"
      ],
      "execution_count": null,
      "outputs": [
        {
          "output_type": "stream",
          "text": [
            "Loaded model from disk\n"
          ],
          "name": "stdout"
        }
      ]
    },
    {
      "cell_type": "markdown",
      "metadata": {
        "id": "fdz5JmTOLLLG",
        "colab_type": "text"
      },
      "source": [
        "## Mimicking the process of external set\n",
        "\n",
        "Note this is a demonstration of how to use external data for inference.  \n",
        "\n",
        "When you bring in an external dataset. Make sure you follow the following steps:\n",
        "\n",
        "a) Make sure you do the same operations that you had done to the data set \n",
        "b) scale the inference dataset in the same way as the training data \n"
      ]
    },
    {
      "cell_type": "code",
      "metadata": {
        "id": "yAHG3TdwLLLH",
        "colab_type": "code",
        "colab": {}
      },
      "source": [
        "import numpy as np\n",
        "chosen_idx = np.random.choice(38, replace=False, size=5)\n",
        "# X_test[chosen_idx].shape\n",
        "# Y_test[chosen_idx].shape\n",
        "# Y_test.shape"
      ],
      "execution_count": null,
      "outputs": []
    },
    {
      "cell_type": "code",
      "metadata": {
        "id": "Ctae6U9fLLLJ",
        "colab_type": "code",
        "colab": {},
        "outputId": "be19653c-a512-4bf0-9019-150a08bc70d6"
      },
      "source": [
        "X_mini = X_test[chosen_idx]\n",
        "y_mini = Y_test[chosen_idx]\n",
        "# df_trimmed = X_mini.drop(X_mini.columns[[0]], axis=1, inplace=False)\n",
        "# X_mini = df_trimmed\n",
        "print('X_mini.shape', X_mini.shape)\n",
        "print('len(y_minip)', len(y_mini))"
      ],
      "execution_count": null,
      "outputs": [
        {
          "output_type": "stream",
          "text": [
            "X_mini.shape (5, 60483, 1)\n",
            "len(y_minip) 5\n"
          ],
          "name": "stdout"
        }
      ]
    },
    {
      "cell_type": "code",
      "metadata": {
        "id": "ja4l5nHoLLLL",
        "colab_type": "code",
        "colab": {},
        "outputId": "1f8ffd56-d75f-4403-cdc8-a162a7ad4fa1"
      },
      "source": [
        "print('X_mini.shape', X_mini.shape)\n",
        "print('y_mini.shape', y_mini.shape)"
      ],
      "execution_count": null,
      "outputs": [
        {
          "output_type": "stream",
          "text": [
            "X_mini.shape (5, 60483, 1)\n",
            "y_mini.shape (5, 3)\n"
          ],
          "name": "stdout"
        }
      ]
    },
    {
      "cell_type": "code",
      "metadata": {
        "id": "t0TU9ehBLLLN",
        "colab_type": "code",
        "colab": {},
        "outputId": "76008ed3-dbf6-4324-b670-3cfa9a724d88"
      },
      "source": [
        "# evaluate loaded model on test data\n",
        "loaded_model.compile(loss='categorical_crossentropy', optimizer='sgd', \n",
        "                     metrics=['accuracy'])\n",
        "score = loaded_model.evaluate(X_mini, y_mini, verbose=0)\n",
        "print(\"%s: %.2f%%\" % (loaded_model.metrics_names[1], score[1]*100))"
      ],
      "execution_count": null,
      "outputs": [
        {
          "output_type": "stream",
          "text": [
            "accuracy: 40.00%\n"
          ],
          "name": "stdout"
        }
      ]
    },
    {
      "cell_type": "code",
      "metadata": {
        "id": "BFeOjH6XLLLP",
        "colab_type": "code",
        "colab": {}
      },
      "source": [
        ""
      ],
      "execution_count": null,
      "outputs": []
    }
  ]
}